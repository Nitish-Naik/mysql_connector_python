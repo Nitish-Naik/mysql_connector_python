{
 "cells": [
  {
   "cell_type": "code",
   "execution_count": null,
   "metadata": {},
   "outputs": [],
   "source": [
    "pip install mysql-connector-python"
   ]
  },
  {
   "cell_type": "markdown",
   "metadata": {},
   "source": [
    "change host == to your hostname\n",
    "passwd == to your password"
   ]
  },
  {
   "cell_type": "code",
   "execution_count": null,
   "metadata": {},
   "outputs": [],
   "source": [
    "import mysql.connector as connection\n",
    "try:\n",
    "    mydb = connection.connect(host='localhost',user=\"root\", passwd=\"<your password>\",use_pure=True)\n",
    "    # check if the connection is established\n",
    "    query=\"SHOW DATABASES\"\n",
    "    cursor = mydb.cursor() # creates a cursor to executes query\n",
    "    \n",
    "    # cursor.execute(\"DROP DATABASE NEURON\")\n",
    "    # cursor.execute(\"CREATE DATABASE FIRSTDATABASE\")\n",
    "    # cursor.execute(\"drop database firstdatabase\")\n",
    "    # query1 = \"select * from data\"\n",
    "    # cursor.execute(\"drop database student\")\n",
    "    print(cursor.fetchall())\n",
    "    \n",
    "except Exception as e:\n",
    "    mydb.close()\n",
    "    print(str(e))\n",
    "    \n",
    "\n",
    "mydb.close()"
   ]
  },
  {
   "cell_type": "markdown",
   "metadata": {},
   "source": [
    "CRUD OPERATIONS"
   ]
  },
  {
   "cell_type": "markdown",
   "metadata": {},
   "source": [
    "CREATE DATABASE <database_name>"
   ]
  },
  {
   "cell_type": "code",
   "execution_count": null,
   "metadata": {},
   "outputs": [],
   "source": [
    "import mysql.connector as connection\n",
    "try:\n",
    "    mydb = connection.connect(host='localhost', user='root', passwd='<your password>', use_pure=True)\n",
    "    cursor = mydb.cursor()\n",
    "    # cursor.execute('CREATE DATABASE employee_db')\n",
    "    cursor.execute('SHOW DATABASES')\n",
    "    \n",
    "    for i in cursor:\n",
    "        print(i)\n",
    "        \n",
    "    # print(cursor.fetchall())\n",
    "except Exception as e:\n",
    "    mydb.close()\n",
    "    print(str(e))\n",
    "    \n",
    "mydb.close()"
   ]
  },
  {
   "cell_type": "code",
   "execution_count": null,
   "metadata": {},
   "outputs": [],
   "source": [
    "import mysql.connector as connection\n",
    "try:\n",
    "    mydb = connection.connect(host=\"localhost\", user='root', passwd='<your password>', use_pure=True, database=\"employee_db\")\n",
    "    cursor = mydb.cursor()\n",
    "    \n",
    "    # create statement for table employee\n",
    "    # employee_table = \"\"\"CREATE TABLE `employee_db`.`tblemployee`(\n",
    "    #                     `empid` INT NOT NULL AUTO_INCREMENT,\n",
    "    #                     `empname` VARCHAR(45) NULL,\n",
    "    #                     `department` VARCHAR(45) NULL,\n",
    "    #                     `salary` INT NULL, \n",
    "    #                     PRIMARY KEY (`empid`))\"\"\"\n",
    "                        \n",
    "    # cursor.execute(employee_table)\n",
    "    cursor = mydb.cursor()\n",
    "    cursor.execute(\"desc tblemployee\")\n",
    "    # desc === describe\n",
    "    for i in cursor:\n",
    "        print(i)\n",
    "    mydb.close()\n",
    "    \n",
    "except Exception as e:\n",
    "    print(str(e))\n",
    "    mydb.close()"
   ]
  },
  {
   "cell_type": "code",
   "execution_count": null,
   "metadata": {},
   "outputs": [],
   "source": [
    "import mysql.connector as connection\n",
    "try:\n",
    "    mydb = connection.connect(host=\"localhost\", user=\"root\", passwd=\"<your password>\", use_pure=True)\n",
    "    database=\"employee_db\"\n",
    "    cursor = mydb.cursor()\n",
    "    query = f\"drop database {database}\"\n",
    "    cursor.execute(query)\n",
    "    print(\"dropped successful\")\n",
    "except Exception as e:\n",
    "    print(str(e))\n",
    "    \n",
    "mydb.close()"
   ]
  },
  {
   "cell_type": "markdown",
   "metadata": {},
   "source": [
    "CREATE TABLE"
   ]
  },
  {
   "cell_type": "code",
   "execution_count": null,
   "metadata": {},
   "outputs": [],
   "source": [
    "import mysql.connector as connection\n",
    "\n",
    "try:\n",
    "    mydb = connection.connect(host='localhost', user='root', passwd='<your password>', use_pure=True)\n",
    "    query1 = \"CREATE DATABASE EmployeeDB\"\n",
    "    \n",
    "    cursor1 = mydb.cursor()\n",
    "    # cursor1.execute(query1)\n",
    "    mydb.database = \"EmployeeDB\"\n",
    "    query2 = \"\"\"CREATE TABLE `EmployeeDB`.`employeetable`(\n",
    "        `empid` INT NOT NULL AUTO_INCREMENT,\n",
    "        `empname` VARCHAR(20) NULL, \n",
    "        `department` VARCHAR(20) NULL,\n",
    "        `salary` INT NULL, \n",
    "        PRIMARY KEY(`empid`))\"\"\"\n",
    "    \n",
    "    cursor2 = mydb.cursor()\n",
    "    # cursor2.execute(query2)\n",
    "    \n",
    "    cursor2.execute(\"desc employeetable\")\n",
    "    \n",
    "    for i in cursor2:\n",
    "        print(i)\n",
    "    \n",
    "    mydb.close()\n",
    "except Exception as e:\n",
    "    print(str(e))\n",
    "\n",
    "mydb.close()\n"
   ]
  },
  {
   "cell_type": "markdown",
   "metadata": {},
   "source": [
    "\n",
    "INSERTING THE DATA INTO THE TABLES"
   ]
  },
  {
   "cell_type": "code",
   "execution_count": null,
   "metadata": {},
   "outputs": [],
   "source": [
    "try:\n",
    "    mydb = connection.connect(host='localhost', user='root', passwd='<your password>', use_pure=True)\n",
    "    cursor3 = mydb.cursor()\n",
    "    # insert statement for tblemployee\n",
    "    # this statement will enable us to insert multiple rows at once.\n",
    "    mydb.database = \"EmployeeDB\"\n",
    "    employee_table_insert = \"\"\"INSERT INTO employeetable (\n",
    "        empname, department, salary) \n",
    "        VALUES\n",
    "        (%s, %s, %s)\"\"\"\n",
    "        \n",
    "    # we save all the row data to be inserted in a data variable\n",
    "    data = [(\"A\", \"CEO\", 12345670),\n",
    "            (\"B\", \"CTO\", 12345678),\n",
    "            (\"C\", \"HR\", 100000),\n",
    "            (\"D\", \"Accounts\", 90000)]\n",
    "\n",
    "    # execute the insert commands for all rows and commit to the database\n",
    "\n",
    "    cursor3.executemany(employee_table_insert, data)\n",
    "\n",
    "\n",
    "    mydb.commit()\n",
    "\n",
    "    mydb.close()\n",
    "except Exception as e:\n",
    "    print(str(e))\n",
    "    mydb.close()\n",
    "    \n",
    "c = cursor3.execute(\"desc employeetable\")\n",
    "\n",
    "for i in c:\n",
    "    print(i)"
   ]
  },
  {
   "cell_type": "markdown",
   "metadata": {},
   "source": [
    "Reading / selectin data"
   ]
  },
  {
   "cell_type": "code",
   "execution_count": null,
   "metadata": {},
   "outputs": [],
   "source": [
    "import mysql.connector as connection\n",
    "import pandas as pd\n",
    "try:\n",
    "    mydb = connection.connect(host=\"localhost\", user=\"root\", passwd = \"<your password>\", use_pure=True)\n",
    "    mydb.database =\"EmployeeDB\"\n",
    "    query = \"select * from employeetable\"\n",
    "    cursor = mydb.cursor()\n",
    "    \n",
    "    cursor.execute(query)\n",
    "    data = cursor.fetchall()\n",
    "    \n",
    "     # Extract column names\n",
    "    df = pd.DataFrame(data, columns=[i[0] for i in cursor.description])\n",
    "    df.to_csv(\"output.csv\", index=False)\n",
    "    print(df)\n",
    "    cursor.close()\n",
    "    mydb.close()\n",
    "    \n",
    "except Exception as e:\n",
    "    print(str(e))"
   ]
  },
  {
   "cell_type": "markdown",
   "metadata": {},
   "source": [
    "Updating Data"
   ]
  },
  {
   "cell_type": "code",
   "execution_count": null,
   "metadata": {},
   "outputs": [],
   "source": [
    "import mysql.connector as connection\n",
    "try:\n",
    "    mydb = connection.connect(host=\"localhost\", user=\"root\", passwd = \"<your password>\", use_pure=True)\n",
    "    mydb.database =\"EmployeeDB\"\n",
    "    cursor = mydb.cursor()\n",
    "    query = \"update employeetable SET salary = 95000 where empid=4\"\n",
    "    \n",
    "    cursor.execute(query)\n",
    "    \n",
    "    mydb.commit()\n",
    "    print(\"Update Successful\")\n",
    "    mydb.close()\n",
    "    \n",
    "except Exception as e:\n",
    "    print(str(e))\n",
    "mydb.close()"
   ]
  },
  {
   "cell_type": "markdown",
   "metadata": {},
   "source": [
    "Deleting Data"
   ]
  },
  {
   "cell_type": "code",
   "execution_count": null,
   "metadata": {},
   "outputs": [],
   "source": [
    "import mysql.connector as connection\n",
    "try:\n",
    "    mydb = connection.connect(host=\"localhost\", user=\"root\", passwd = \"<your password>\", use_pure=True)\n",
    "    mydb.database =\"EmployeeDB\"\n",
    "    cursor = mydb.cursor()\n",
    "    query = \"delete from employeetable where empid=4\"\n",
    "    \n",
    "    cursor.execute(query)\n",
    "    \n",
    "    mydb.commit()\n",
    "    print(\"delete Successful\")\n",
    "    mydb.close()\n",
    "    \n",
    "except Exception as e:\n",
    "    print(str(e))\n",
    "mydb.close()"
   ]
  },
  {
   "cell_type": "code",
   "execution_count": null,
   "metadata": {},
   "outputs": [],
   "source": [
    "import mysql.connector as connection\n",
    "\n",
    "try:\n",
    "    mydb = connection.connect(host='localhost', user='root', passwd = '<your password>', use_pure = True)\n",
    "    mydb.database = \"EmployeeDB\"\n",
    "    print(mydb.is_connected())\n",
    "    cursor = mydb.cursor()\n",
    "    \n",
    "    query = \"select * from employeetable\"\n",
    "    \n",
    "    cursor.execute(query)\n",
    "except Exception as e:\n",
    "    print(str(e))\n",
    "    "
   ]
  },
  {
   "cell_type": "code",
   "execution_count": null,
   "metadata": {},
   "outputs": [],
   "source": [
    "cursor1 = mydb.cursor()\n",
    "cursor1.execute(\"select * from employeetable\")\n"
   ]
  },
  {
   "cell_type": "code",
   "execution_count": null,
   "metadata": {},
   "outputs": [],
   "source": [
    "for i in cursor1.fetchall():\n",
    "    print(i)"
   ]
  },
  {
   "cell_type": "code",
   "execution_count": null,
   "metadata": {},
   "outputs": [],
   "source": [
    "cursor1.execute(\"select empid, empname from employeetable\")\n"
   ]
  },
  {
   "cell_type": "code",
   "execution_count": null,
   "metadata": {},
   "outputs": [],
   "source": [
    "for i in cursor1.fetchall():\n",
    "    print(i)"
   ]
  },
  {
   "cell_type": "markdown",
   "metadata": {},
   "source": [
    "Reading data from sql and creating dataframe"
   ]
  },
  {
   "cell_type": "code",
   "execution_count": null,
   "metadata": {},
   "outputs": [],
   "source": [
    "import mysql.connector as connection\n",
    "import pandas as pd\n",
    "\n",
    "try:\n",
    "    mydb = connection.connect(host='localhost', user='root', passwd ='<your password>')\n",
    "    \n",
    "    mydb.database = \"EmployeeDB\"\n",
    "    print(mydb.is_connected())\n",
    "    table = \"employeetable\"\n",
    "    query = f\"select * from {table}\"\n",
    "    mydb.close()\n",
    "    \n",
    "except Exception as e:\n",
    "    print(str(e))\n",
    "    "
   ]
  },
  {
   "cell_type": "code",
   "execution_count": null,
   "metadata": {},
   "outputs": [],
   "source": []
  },
  {
   "cell_type": "code",
   "execution_count": null,
   "metadata": {},
   "outputs": [],
   "source": []
  },
  {
   "cell_type": "code",
   "execution_count": null,
   "metadata": {},
   "outputs": [],
   "source": []
  }
 ],
 "metadata": {
  "kernelspec": {
   "display_name": "Python 3",
   "language": "python",
   "name": "python3"
  },
  "language_info": {
   "codemirror_mode": {
    "name": "ipython",
    "version": 3
   },
   "file_extension": ".py",
   "mimetype": "text/x-python",
   "name": "python",
   "nbconvert_exporter": "python",
   "pygments_lexer": "ipython3",
   "version": "3.12.3"
  }
 },
 "nbformat": 4,
 "nbformat_minor": 2
}
